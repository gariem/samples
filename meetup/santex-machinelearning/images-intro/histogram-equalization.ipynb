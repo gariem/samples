{
 "cells": [
  {
   "cell_type": "markdown",
   "metadata": {},
   "source": [
    "#### Import libraries"
   ]
  },
  {
   "cell_type": "code",
   "execution_count": 6,
   "metadata": {},
   "outputs": [],
   "source": [
    "%matplotlib inline\n",
    "import imageio\n",
    "from PIL import Image\n",
    "import numpy as np\n",
    "import matplotlib.pyplot as plt"
   ]
  },
  {
   "cell_type": "code",
   "execution_count": 12,
   "metadata": {},
   "outputs": [],
   "source": [
    "img_matrix = imageio.imread('images/galaxia.jpg')\n",
    "\n",
    "img = Image.fromarray(img_matrix, 'L')\n",
    "img.show()"
   ]
  },
  {
   "cell_type": "markdown",
   "metadata": {},
   "source": [
    "#### Image histogram"
   ]
  },
  {
   "cell_type": "code",
   "execution_count": 8,
   "metadata": {},
   "outputs": [
    {
     "data": {
      "text/plain": [
       "Text(0.5,1,'Image histogram')"
      ]
     },
     "execution_count": 8,
     "metadata": {},
     "output_type": "execute_result"
    },
    {
     "data": {
      "image/png": "[encoded data removed]",
      "text/plain": [
       "<matplotlib.figure.Figure at 0x105485080>"
      ]
     },
     "metadata": {},
     "output_type": "display_data"
    }
   ],
   "source": [
    "rows, cols = img_matrix.shape\n",
    "\n",
    "histogram = np.zeros(256)\n",
    "\n",
    "for x in range(0, cols):\n",
    "    for y in range(0, rows):\n",
    "        histogram[img_matrix[y,x]]=histogram[img_matrix[y,x]]+1\n",
    "\n",
    "plt.figure(figsize=(14, 4))\n",
    "ax = plt.subplot(1,2,1)\n",
    "ax.bar(range(256), histogram)\n",
    "plt.title(\"Image histogram\")"
   ]
  },
  {
   "cell_type": "markdown",
   "metadata": {},
   "source": [
    "#### Equalization"
   ]
  },
  {
   "cell_type": "code",
   "execution_count": 9,
   "metadata": {},
   "outputs": [],
   "source": [
    "histogram_eq = histogram/(rows*cols)\n",
    "accum = np.zeros(256)\n",
    "\n",
    "accum[0] = histogram_eq[0]\n",
    "\n",
    "for i in range(1, 255):\n",
    "    accum[i] = accum[i-1] + histogram_eq[i]\n",
    "\n",
    "image_new = np.zeros((rows, cols), dtype=np.uint8)\n",
    "\n",
    "for x in range (rows):\n",
    "    for y in range(cols):\n",
    "        image_new[x,y] = np.abs(np.floor(255 * accum[img_matrix[x,y]]))"
   ]
  },
  {
   "cell_type": "code",
   "execution_count": 11,
   "metadata": {},
   "outputs": [],
   "source": [
    "img_new = Image.fromarray(image_new, 'L')\n",
    "img_new.show()"
   ]
  },
  {
   "cell_type": "markdown",
   "metadata": {},
   "source": [
    "#### New histogram"
   ]
  },
  {
   "cell_type": "code",
   "execution_count": 10,
   "metadata": {},
   "outputs": [
    {
     "data": {
      "text/plain": [
       "Text(0.5,1,'Image histogram')"
      ]
     },
     "execution_count": 10,
     "metadata": {},
     "output_type": "execute_result"
    },
    {
     "data": {
      "image/png": "[encoded data removed]",
      "text/plain": [
       "<matplotlib.figure.Figure at 0x105501898>"
      ]
     },
     "metadata": {},
     "output_type": "display_data"
    }
   ],
   "source": [
    "histogram = np.zeros(256)\n",
    "\n",
    "for x in range(0, cols):\n",
    "    for y in range(0, rows):\n",
    "        histogram[image_new[y,x]]=histogram[image_new[y,x]]+1\n",
    "        \n",
    "plt.figure(figsize=(14, 4))\n",
    "ax = plt.subplot(1,2,1)\n",
    "ax.bar(range(256), histogram)\n",
    "plt.title(\"Image histogram\")"
   ]
  },
  {
   "cell_type": "code",
   "execution_count": null,
   "metadata": {},
   "outputs": [],
   "source": []
  }
 ],
 "metadata": {
  "kernelspec": {
   "display_name": "Python 3",
   "language": "python",
   "name": "python3"
  },
  "language_info": {
   "codemirror_mode": {
    "name": "ipython",
    "version": 3
   },
   "file_extension": ".py",
   "mimetype": "text/x-python",
   "name": "python",
   "nbconvert_exporter": "python",
   "pygments_lexer": "ipython3",
   "version": "3.6.3"
  }
 },
 "nbformat": 4,
 "nbformat_minor": 2
}
