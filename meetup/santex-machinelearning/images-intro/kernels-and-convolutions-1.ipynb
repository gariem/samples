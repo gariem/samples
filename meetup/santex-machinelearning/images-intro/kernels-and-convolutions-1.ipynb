{
 "cells": [
  {
   "cell_type": "markdown",
   "metadata": {},
   "source": [
    "#### Import libraries"
   ]
  },
  {
   "cell_type": "code",
   "execution_count": 158,
   "metadata": {},
   "outputs": [],
   "source": [
    "%matplotlib inline\n",
    "import imageio\n",
    "from PIL import Image\n",
    "import numpy as np\n",
    "import matplotlib.pyplot as plt"
   ]
  },
  {
   "cell_type": "code",
   "execution_count": 159,
   "metadata": {},
   "outputs": [],
   "source": [
    "img_matrix = imageio.imread('images/arbol.jpg')\n",
    "\n",
    "img = Image.fromarray(img_matrix, 'L')\n",
    "img.show()"
   ]
  },
  {
   "cell_type": "markdown",
   "metadata": {},
   "source": [
    "#### Median filter"
   ]
  },
  {
   "cell_type": "code",
   "execution_count": 162,
   "metadata": {},
   "outputs": [],
   "source": [
    "def median_filter(source, mask_rows, mask_cols):\n",
    "    padding_rows = int((mask_rows - 1) / 2)\n",
    "    padding_cols = int((mask_cols - 1) / 2)\n",
    "\n",
    "    rows, cols = source.shape\n",
    "\n",
    "    padded = np.zeros((rows + 2 * padding_rows, cols + 2 * padding_cols), dtype=np.uint8)\n",
    "    padded[padding_rows:padding_rows + rows, padding_cols:padding_cols + cols] = source\n",
    "\n",
    "    result = np.zeros((rows + 2 * padding_rows, cols + 2 * padding_cols), dtype=np.uint8)\n",
    "\n",
    "    for i in range(padding_rows, padding_rows + rows - 1):\n",
    "        for j in range(padding_cols, padding_cols + cols - 1):\n",
    "            aux = padded[i - padding_rows:i + padding_rows + 1, j - padding_cols: j + padding_cols + 1]\n",
    "            s = np.sort(np.reshape(aux, mask_rows*mask_cols))\n",
    "            result[i, j] = s[int(mask_rows * mask_cols / 2 + 0.5)]\n",
    "\n",
    "    result = result[padding_rows:padding_rows + rows, padding_cols: padding_cols + cols]\n",
    "\n",
    "    return result"
   ]
  },
  {
   "cell_type": "markdown",
   "metadata": {},
   "source": [
    "#### Usage"
   ]
  },
  {
   "cell_type": "code",
   "execution_count": 163,
   "metadata": {},
   "outputs": [],
   "source": [
    "image_new = median_filter(img_matrix, 5, 5)\n",
    "img_new = Image.fromarray(image_new, 'L')\n",
    "img_new.show()"
   ]
  },
  {
   "cell_type": "code",
   "execution_count": null,
   "metadata": {},
   "outputs": [],
   "source": []
  }
 ],
 "metadata": {
  "kernelspec": {
   "display_name": "Python 3",
   "language": "python",
   "name": "python3"
  },
  "language_info": {
   "codemirror_mode": {
    "name": "ipython",
    "version": 3
   },
   "file_extension": ".py",
   "mimetype": "text/x-python",
   "name": "python",
   "nbconvert_exporter": "python",
   "pygments_lexer": "ipython3",
   "version": "3.6.3"
  }
 },
 "nbformat": 4,
 "nbformat_minor": 2
}
