{
 "cells": [
  {
   "cell_type": "code",
   "execution_count": null,
   "metadata": {},
   "outputs": [],
   "source": [
    "%matplotlib inline\n",
    "import tensorflow as tf\n",
    "import matplotlib.pyplot as plt\n",
    "import numpy as np\n",
    "import glob\n",
    "import os\n",
    "from PIL import Image\n",
    "import random\n",
    "from sklearn.cross_validation import train_test_split\n",
    "# from tqdm import tnrange"
   ]
  },
  {
   "cell_type": "code",
   "execution_count": null,
   "metadata": {},
   "outputs": [],
   "source": [
    "resize_default=64\n",
    "\n",
    "def resizeImg(image):\n",
    "    img_w=image.size[0]\n",
    "    img_h=image.size[1]\n",
    "    #print(\"Image: %s (%i x %i)\" % (imgUrl, img_w, img_h))\n",
    "    slot = int(img_w/100) +1 if img_w > img_h else int(img_h/100) +1 \n",
    "    \n",
    "    if slot!=0:\n",
    "        if img_w >= img_h:\n",
    "            img = image.resize((resize_default,int(resize_default*img_h/img_w)), Image.ANTIALIAS)\n",
    "        else:\n",
    "            img = image.resize((int(resize_default*img_w/img_h),resize_default), Image.ANTIALIAS)\n",
    "        \n",
    "    return img;\n",
    "\n",
    "def padImg(image):\n",
    "    img_w=image.size[0]\n",
    "    img_h=image.size[1]\n",
    "    \n",
    "    if img_w > resize_default or img_h > resize_default:\n",
    "        if img_w >= img_h:\n",
    "            new_size = (img_w, img_w)\n",
    "        else:\n",
    "            new_size = (img_h, img_h)\n",
    "    else:\n",
    "        new_size = (resize_default, resize_default)\n",
    "        \n",
    "    img = Image.new(\"RGB\", new_size)\n",
    "    img.paste(image, (int((new_size[0]-img_w)/2),int((new_size[1]-img_h)/2)))\n",
    "        \n",
    "    return img;"
   ]
  },
  {
   "cell_type": "code",
   "execution_count": null,
   "metadata": {},
   "outputs": [],
   "source": [
    "def dropout(x, prob, train_phase):\n",
    "    return tf.cond(train_phase, \n",
    "                   lambda: tf.nn.dropout(x, prob),\n",
    "                   lambda: x)\n",
    "\n",
    "def weight_variable(shape):\n",
    "  return tf.Variable(tf.truncated_normal(shape, stddev=0.1))\n",
    "\n",
    "def bias_variable(shape):\n",
    "  return tf.Variable(tf.constant(0.1, shape=shape))\n",
    "\n",
    "def conv2d(x, W):\n",
    "  return tf.nn.conv2d(x, W, strides=[1, 1, 1, 1], padding='SAME')\n",
    "\n",
    "def max_pool_2x2(x):\n",
    "  return tf.nn.max_pool(x, ksize=[1, 2, 2, 1],strides=[1, 2, 2, 1], padding='SAME')"
   ]
  },
  {
   "cell_type": "code",
   "execution_count": null,
   "metadata": {},
   "outputs": [],
   "source": [
    "sess = tf.InteractiveSession()\n",
    "\n",
    "# tf Graph Input\n",
    "x = tf.placeholder(tf.float32, [None,64,64,3]) \n",
    "y = tf.placeholder(tf.float32, [None, 2])\n",
    "\n",
    "# dropout placeholder\n",
    "keep_prob = tf.placeholder(tf.float32)\n",
    "\n",
    "# train flag placeholder\n",
    "train_phase = tf.placeholder(tf.bool) # For Batch Normalization\n",
    "\n",
    "# Set model weights\n",
    "W1 = weight_variable([3, 3, 3, 32])\n",
    "b1 = bias_variable([32])\n",
    "\n",
    "W2 = weight_variable([3, 3, 32, 64])\n",
    "b2 = bias_variable([64])\n",
    "\n",
    "W3 = weight_variable([3, 3, 64, 64])\n",
    "b3 = bias_variable([64])\n",
    "\n",
    "W4 = weight_variable([16 * 16 * 64, 512])\n",
    "b4 = bias_variable([512])\n",
    "\n",
    "W5 = weight_variable([512, 2])\n",
    "b5 = bias_variable([2])\n",
    "\n",
    "# hidden layers\n",
    "conv1 = tf.nn.relu(conv2d(x, W1) + b1)\n",
    "maxp1 = max_pool_2x2(conv1)\n",
    "\n",
    "conv2 = tf.nn.relu(conv2d(maxp1, W2) + b2)\n",
    "#maxp2 = max_pool_2x2(conv2)\n",
    "\n",
    "conv3 = tf.nn.relu(conv2d(conv2, W3) + b3)\n",
    "maxp3 = max_pool_2x2(conv3)\n",
    "\n",
    "# fully connected\n",
    "maxp3_flat = tf.reshape(maxp3, [-1, 16 * 16 * 64])\n",
    "\n",
    "full1 = tf.nn.relu(tf.matmul(maxp3_flat, W4) + b4)\n",
    "drop1 = tf.nn.dropout(full1, keep_prob)\n",
    "\n",
    "#output\n",
    "output = tf.matmul(drop1, W5) + b5\n",
    "softmax=tf.nn.softmax(output)\n",
    "\n",
    "loss = tf.reduce_mean(tf.nn.softmax_cross_entropy_with_logits(logits=output, labels=y))\n",
    "\n",
    "all_variables = tf.trainable_variables() "
   ]
  },
  {
   "cell_type": "code",
   "execution_count": null,
   "metadata": {
    "scrolled": false
   },
   "outputs": [],
   "source": [
    "# Add ops to save and restore all the variables.\n",
    "saver = tf.train.Saver()\n",
    "saver.restore(sess, \"./saved/model2\")\n",
    "print(\"Model restored...\")"
   ]
  },
  {
   "cell_type": "code",
   "execution_count": null,
   "metadata": {},
   "outputs": [],
   "source": [
    "train_path = \"data/test1\"\n",
    "X_test = glob.glob(os.path.join(train_path, \"*.jpg\"))\n",
    "\n",
    "y=tf.nn.softmax(output)\n",
    "test_img = Image.open(X_test[int(np.random.uniform(0, len(X_test)))])\n",
    "\n",
    "input_array = np.array(padImg(resizeImg(test_img))).reshape([-1]) / 255\n",
    "input_array = input_array.reshape([-1,64,64,3])\n",
    "\n",
    "softmax=tf.nn.softmax(output)\n",
    "prediction = sess.run(tf.argmax(y, 1), feed_dict={x: input_array, train_phase: False, keep_prob: 1.0})\n",
    "print(\"Predicted: \" + (\"Cat\" if prediction[0]==0 else \"Dog\"))\n",
    "test_img"
   ]
  },
  {
   "cell_type": "code",
   "execution_count": null,
   "metadata": {},
   "outputs": [],
   "source": []
  }
 ],
 "metadata": {
  "kernelspec": {
   "display_name": "Python 3",
   "language": "python",
   "name": "python3"
  },
  "language_info": {
   "codemirror_mode": {
    "name": "ipython",
    "version": 3
   },
   "file_extension": ".py",
   "mimetype": "text/x-python",
   "name": "python",
   "nbconvert_exporter": "python",
   "pygments_lexer": "ipython3",
   "version": "3.6.3"
  }
 },
 "nbformat": 4,
 "nbformat_minor": 1
}
